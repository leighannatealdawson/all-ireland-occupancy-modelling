{
 "cells": [
  {
   "cell_type": "markdown",
   "metadata": {},
   "source": [
    "Try all variables in out occupancy model \n",
    "\n",
    "First atempt at occupency modelling, this needs a good but more playing around with and i want to try the AIC model selection - 09/05/2025\n"
   ]
  },
  {
   "cell_type": "code",
   "execution_count": 1,
   "metadata": {
    "vscode": {
     "languageId": "r"
    }
   },
   "outputs": [
    {
     "name": "stderr",
     "output_type": "stream",
     "text": [
      "\n",
      "Attaching package: ‘AICcmodavg’\n",
      "\n",
      "\n",
      "The following objects are masked from ‘package:MuMIn’:\n",
      "\n",
      "    AICc, DIC, importance\n",
      "\n",
      "\n",
      "── \u001b[1mAttaching core tidyverse packages\u001b[22m ──────────────────────── tidyverse 2.0.0 ──\n",
      "\u001b[32m✔\u001b[39m \u001b[34mdplyr    \u001b[39m 1.1.4     \u001b[32m✔\u001b[39m \u001b[34mreadr    \u001b[39m 2.1.5\n",
      "\u001b[32m✔\u001b[39m \u001b[34mforcats  \u001b[39m 1.0.0     \u001b[32m✔\u001b[39m \u001b[34mstringr  \u001b[39m 1.5.1\n",
      "\u001b[32m✔\u001b[39m \u001b[34mlubridate\u001b[39m 1.9.4     \u001b[32m✔\u001b[39m \u001b[34mtibble   \u001b[39m 3.2.1\n",
      "\u001b[32m✔\u001b[39m \u001b[34mpurrr    \u001b[39m 1.0.4     \u001b[32m✔\u001b[39m \u001b[34mtidyr    \u001b[39m 1.3.1\n",
      "── \u001b[1mConflicts\u001b[22m ────────────────────────────────────────── tidyverse_conflicts() ──\n",
      "\u001b[31m✖\u001b[39m \u001b[34mdplyr\u001b[39m::\u001b[32mfilter()\u001b[39m masks \u001b[34mstats\u001b[39m::filter()\n",
      "\u001b[31m✖\u001b[39m \u001b[34mdplyr\u001b[39m::\u001b[32mlag()\u001b[39m    masks \u001b[34mstats\u001b[39m::lag()\n",
      "\u001b[36mℹ\u001b[39m Use the conflicted package (\u001b[3m\u001b[34m<http://conflicted.r-lib.org/>\u001b[39m\u001b[23m) to force all conflicts to become errors\n",
      "Loading required package: car\n",
      "\n",
      "Loading required package: carData\n",
      "\n",
      "\n",
      "Attaching package: ‘car’\n",
      "\n",
      "\n",
      "The following object is masked from ‘package:dplyr’:\n",
      "\n",
      "    recode\n",
      "\n",
      "\n",
      "The following object is masked from ‘package:purrr’:\n",
      "\n",
      "    some\n",
      "\n",
      "\n",
      "The following object is masked from ‘package:unmarked’:\n",
      "\n",
      "    vif\n",
      "\n",
      "\n",
      "Loading required package: lmtest\n",
      "\n",
      "Loading required package: zoo\n",
      "\n",
      "\n",
      "Attaching package: ‘zoo’\n",
      "\n",
      "\n",
      "The following objects are masked from ‘package:base’:\n",
      "\n",
      "    as.Date, as.Date.numeric\n",
      "\n",
      "\n",
      "Loading required package: sandwich\n",
      "\n",
      "Loading required package: survival\n",
      "\n"
     ]
    }
   ],
   "source": [
    "#admin \n",
    "library(unmarked)\n",
    "library(MuMIn)\n",
    "library(AICcmodavg)\n",
    "library(ggplot2)\n",
    "library(tidyverse)\n",
    "library(AER)"
   ]
  },
  {
   "cell_type": "markdown",
   "metadata": {},
   "source": [
    "Instructions \n",
    "step by step guide to building occupancy models in unmarked\n",
    "Step 1. Extract covariates at 1km2, 5km2, and 10km2 buffers (or as chosen scale)\n",
    "Step 2. Create a fishnet or grid, as the same size as the buffers across all Ireland, and eStep Step 3. Sanity check - plot your covariates on your grid in ArcGIS - do they look right?\n",
    "You can start building models.... But first\n",
    "Step 4.  Write down your hypotheses for covariate effects on detection probability and occupancy based on species ecology\n",
    "Step 5. Think about how you might combine some of the various classes in the CORINE data (for example, broadleaf + mixed forest becomes broadleaf and mixed).\n",
    "Step 6. Build a global model - and check goodness of fit\n",
    "Step 7. Decide on whether you are going to interpret your global model or conduct AIC-based model selection\n",
    "Step 8. Make marginal predictions for covariates in top model (explore covariate space across range of sampled values for that covariate, while keeping all others at their mean).\n",
    "Step 9. Make predictions for marten psi (occupancy probability) across the landscape, plot them in ArcGIS\n",
    "Step 10. Celebrate, you did it!"
   ]
  },
  {
   "cell_type": "markdown",
   "metadata": {},
   "source": [
    "Import the data "
   ]
  },
  {
   "cell_type": "code",
   "execution_count": 3,
   "metadata": {
    "vscode": {
     "languageId": "r"
    }
   },
   "outputs": [
    {
     "name": "stderr",
     "output_type": "stream",
     "text": [
      "Warning message in file(file, \"rt\"):\n",
      "“cannot open file '6.provided-scripts/pinemarten201520182020noname.csv': No such file or directory”\n"
     ]
    },
    {
     "ename": "ERROR",
     "evalue": "Error in file(file, \"rt\"): cannot open the connection\n",
     "output_type": "error",
     "traceback": [
      "Error in file(file, \"rt\"): cannot open the connection\nTraceback:\n",
      "1. read.table(file = file, header = header, sep = sep, quote = quote, \n .     dec = dec, fill = fill, comment.char = comment.char, ...)",
      "2. file(file, \"rt\")",
      "3. .handleSimpleError(function (cnd) \n . {\n .     watcher$capture_plot_and_output()\n .     cnd <- sanitize_call(cnd)\n .     watcher$push(cnd)\n .     switch(on_error, continue = invokeRestart(\"eval_continue\"), \n .         stop = invokeRestart(\"eval_stop\"), error = NULL)\n . }, \"cannot open the connection\", base::quote(file(file, \"rt\")))"
     ]
    }
   ],
   "source": [
    "# read in detection none detection data\n",
    "y <- read.csv(\"6.provided-scripts/pinemarten201520182020noname.csv\")\n",
    "y <- as.matrix(y)\n",
    "\n",
    "nrow(y)\n",
    "head(y)\n",
    "str(y)\n",
    "\n",
    "# import the landscape data for 1km buffers \n",
    "siteCovs <- read.csv(\"1.data/1.4.final_data_gropupings/landscape_datainput_1km_grid_groupings.csv\")\n",
    "str(siteCovs)"
   ]
  },
  {
   "cell_type": "code",
   "execution_count": null,
   "metadata": {
    "vscode": {
     "languageId": "r"
    }
   },
   "outputs": [],
   "source": [
    "# create some detection covariates, for example: occasion number covariate\n",
    "#' this will allow us to acount for a change in samelling over time. e.g. bait may be more attractive\n",
    "#' at the start of the sampling period than at the end once it has been eaten etc.\n",
    "occ <- y\n",
    "for (i in 1:nrow(y)) {\n",
    "  tmp <- y[i, ]\n",
    "  n.samp <- sum(!is.na(tmp))\n",
    "  tmp[!is.na(tmp)] <- 1:n.samp\n",
    "  occ[i, ] <- tmp\n",
    "}\n",
    "\n",
    "View(occ)"
   ]
  },
  {
   "cell_type": "code",
   "execution_count": null,
   "metadata": {
    "vscode": {
     "languageId": "r"
    }
   },
   "outputs": [],
   "source": [
    "##########################################################################################################\n",
    "# Create occupancy covariates list\n",
    "\n",
    "#' # Bait covariate\n",
    "#' note in samelling in 2018 sunflowers only were used as bait, in 2015 and 2020 both sunflowers and peanuts were used\n",
    "#' likely impacting detection probability, so we will include this as a covariate\n",
    "#'\n",
    "# format bait as dummy cov\n",
    "siteCovs$bait[siteCovs$bait == \"sunflower\"] <- 0\n",
    "siteCovs$bait[siteCovs$bait == \"sunflower and peanuts\"] <- 1\n",
    "\n",
    "\n",
    "# create observation covariates list\n",
    "# NOTE these vary by site and observation (unlike site covariates which are constant for each site)\n",
    "obvsCov <-\n",
    "  list(\n",
    "    occ = occ\n",
    "  )\n",
    "\n",
    "# check formatting is correct - observation covariates should mirror the observation data (y)\n",
    "str(y)\n",
    "str(occ)"
   ]
  },
  {
   "cell_type": "code",
   "execution_count": null,
   "metadata": {
    "vscode": {
     "languageId": "r"
    }
   },
   "outputs": [],
   "source": [
    "# check distribution of covariates sampled\n",
    "hist(siteCovs$)"
   ]
  }
 ],
 "metadata": {
  "kernelspec": {
   "display_name": "R",
   "language": "R",
   "name": "ir"
  },
  "language_info": {
   "codemirror_mode": "r",
   "file_extension": ".r",
   "mimetype": "text/x-r-source",
   "name": "R",
   "pygments_lexer": "r",
   "version": "4.5.0"
  }
 },
 "nbformat": 4,
 "nbformat_minor": 2
}
